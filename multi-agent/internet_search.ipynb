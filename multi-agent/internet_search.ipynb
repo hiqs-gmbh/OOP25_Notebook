{
 "cells": [
  {
   "cell_type": "markdown",
   "metadata": {},
   "source": [
    "## Internetsuche mithilfe eines Agenten\n",
    "\n",
    "In diesem Notebook werden wir einen Agenten eine Internetrecherche durchführen und uns eine Frage beantworten lassen.\n",
    "\n",
    "**Voraussetzung**\n",
    "\n",
    "Bei [Tavily](https://app.tavily.com/) anmelden und einen API Key generieren. Dieser muss anschließend in unsere `.env` eingefügt oder im Code hinterlegt werden.\n",
    "\n"
   ]
  },
  {
   "cell_type": "markdown",
   "metadata": {},
   "source": [
    "### 1. Imports\n",
    "In dieser Zelle importieren wir die notwendigen Klassen und Funktionen.\n",
    "- `START` und `END` sind spezielle Marker von **LangGraph**, die den Anfang und das Ende eines Graphen repräsentieren.\n",
    "- `StateGraph` ist eine zentrale Klasse von LangGraph, die unseren Workflow konfiguriert.\n",
    "- `TypedDict` hilft uns dabei, den \"State\" (Zustand) typisiert anzulegen, was den Code besser verständlich macht und potenzielle Fehler frühzeitig erkennen lässt.\n",
    "- `IPython.display` (mit `Image`, `display`) wird genutzt, um innerhalb von Jupyter Notebooks Grafiken anzuzeigen, z.B. unser Graph-Diagramm.\n",
    "- `TavilyClient` ist unser Client, um die **Tavily-API** ansprechen zu können.\n"
   ]
  },
  {
   "cell_type": "code",
   "execution_count": 2,
   "metadata": {},
   "outputs": [],
   "source": [
    "import os\n",
    "from dotenv import load_dotenv\n",
    "from langgraph.graph import START, StateGraph, END\n",
    "from typing_extensions import TypedDict\n",
    "from IPython.display import Image, display\n",
    "from tavily import TavilyClient"
   ]
  },
  {
   "cell_type": "markdown",
   "metadata": {},
   "source": [
    "### 2. Laden der Umgebungsvariablen\n",
    "Hier wird der API Key von Tavily aus der `.env` eingelesen."
   ]
  },
  {
   "cell_type": "code",
   "execution_count": 3,
   "metadata": {},
   "outputs": [],
   "source": [
    "load_dotenv()\n",
    "\n",
    "TAVILY_API_KEY = os.getenv(\"TAVILY_API_KEY\", \"\")"
   ]
  },
  {
   "cell_type": "markdown",
   "metadata": {},
   "source": [
    "### 3. State definieren\n",
    "Wir definieren einen `MyState` (auf Basis von `TypedDict`), der folgende Felder enthält:\n",
    "- `topic`: Das Thema oder die Suchanfrage, das der Benutzer vorgibt.\n",
    "- `result`: Eine Liste, in der die Suchergebnisse von Tavily gespeichert werden.\n"
   ]
  },
  {
   "cell_type": "code",
   "execution_count": 4,
   "metadata": {},
   "outputs": [],
   "source": [
    "# State\n",
    "class MyState(TypedDict):\n",
    "    topic: str\n",
    "    result: list"
   ]
  },
  {
   "cell_type": "markdown",
   "metadata": {},
   "source": [
    "### 4. Erstellen der Node (Funktion `internet_search`)\n",
    "\n",
    "- Diese Funktion nimmt den State entgegen (`topic` wird genutzt, um eine Anfrage an Tavily zu stellen).\n",
    "- Dann wird ein `TavilyClient` mit dem geladenen API-Key erstellt.\n",
    "- Anschließend rufen wir `qna_search(...)` auf und speichern das Ergebnis im State-Schlüssel `\"result\"`.\n"
   ]
  },
  {
   "cell_type": "code",
   "execution_count": 5,
   "metadata": {},
   "outputs": [],
   "source": [
    "# Node\n",
    "def internet_search(state: MyState):\n",
    "    \n",
    "    # Client erstellen\n",
    "    tavily_client = TavilyClient(api_key=TAVILY_API_KEY)\n",
    "\n",
    "    # Über den Client eine Suchanfrage stellen\n",
    "    context = tavily_client.qna_search(query=state[\"topic\"])\n",
    "\n",
    "    return {\"result\": context}"
   ]
  },
  {
   "cell_type": "markdown",
   "metadata": {},
   "source": [
    "### 5. Aufbau und Kompilieren des Graphen\n",
    "\n",
    "- Wir erzeugen eine `StateGraph(MyState)`-Instanz.\n",
    "- Fügen eine Node namens `\"Search Agent\"` hinzu, die auf unsere Funktion `internet_search` verweist.\n",
    "- Definieren die Kanten: `START -> \"Search Agent\" -> END`.\n",
    "- Kompilieren (`.compile()`) den Graph, damit er ausführbar wird."
   ]
  },
  {
   "cell_type": "code",
   "execution_count": 6,
   "metadata": {},
   "outputs": [],
   "source": [
    "# StateGraph initialisieren\n",
    "graph = StateGraph(MyState)\n",
    "\n",
    "# Agent (Node) hinzufügen\n",
    "graph.add_node(\"Search Agent\", internet_search)\n",
    "\n",
    "# Ablauf im Graph definieren\n",
    "graph.add_edge(START, \"Search Agent\")\n",
    "graph.add_edge(\"Search Agent\", END)\n",
    "\n",
    "# Graph erstellen\n",
    "graph = graph.compile()"
   ]
  },
  {
   "cell_type": "markdown",
   "metadata": {},
   "source": [
    "### 5. Graph visualisieren"
   ]
  },
  {
   "cell_type": "code",
   "execution_count": 7,
   "metadata": {},
   "outputs": [
    {
     "data": {
      "image/png": "[encoded data removed]",
      "text/plain": [
       "<IPython.core.display.Image object>"
      ]
     },
     "metadata": {},
     "output_type": "display_data"
    }
   ],
   "source": [
    "# Graph anzeigen lassen\n",
    "display(Image(graph.get_graph(xray=True).draw_mermaid_png()))"
   ]
  },
  {
   "cell_type": "markdown",
   "metadata": {},
   "source": [
    "### 6. Graph aufrufen\n",
    "Wir rufen `graph.invoke({...}, debug=True)` auf und übergeben ein Dictionary, das unserem State-Schema entspricht – hier also `{\"topic\": \"Are all Flowers yellow?\"}`. \n",
    "\n",
    "- Der Graph startet bei `START`.\n",
    "- Wechselt zur Node **Search Agent**.\n",
    "- Führt die Suche aus und setzt das Ergebnis in `result`.\n",
    "- Anschließend endet der Graph (`END`).\n",
    "\n",
    "Das Ergebnis liegt im zurückgegebenen `result_state`."
   ]
  },
  {
   "cell_type": "code",
   "execution_count": 8,
   "metadata": {},
   "outputs": [
    {
     "name": "stdout",
     "output_type": "stream",
     "text": [
      "\u001b[36;1m\u001b[1;3m[-1:checkpoint]\u001b[0m \u001b[1mState at the end of step -1:\n",
      "\u001b[0m{}\n",
      "\u001b[36;1m\u001b[1;3m[0:tasks]\u001b[0m \u001b[1mStarting 1 task for step 0:\n",
      "\u001b[0m- \u001b[32;1m\u001b[1;3m__start__\u001b[0m -> {'topic': 'Are all Flowers yellow?'}\n",
      "\u001b[36;1m\u001b[1;3m[0:writes]\u001b[0m \u001b[1mFinished step 0 with writes to 1 channel:\n",
      "\u001b[0m- \u001b[33;1m\u001b[1;3mtopic\u001b[0m -> 'Are all Flowers yellow?'\n",
      "\u001b[36;1m\u001b[1;3m[0:checkpoint]\u001b[0m \u001b[1mState at the end of step 0:\n",
      "\u001b[0m{'topic': 'Are all Flowers yellow?'}\n",
      "\u001b[36;1m\u001b[1;3m[1:tasks]\u001b[0m \u001b[1mStarting 1 task for step 1:\n",
      "\u001b[0m- \u001b[32;1m\u001b[1;3mSearch Agent\u001b[0m -> {'topic': 'Are all Flowers yellow?'}\n",
      "\u001b[36;1m\u001b[1;3m[1:writes]\u001b[0m \u001b[1mFinished step 1 with writes to 1 channel:\n",
      "\u001b[0m- \u001b[33;1m\u001b[1;3mresult\u001b[0m -> ('Not all flowers are yellow. While many flowers do exhibit yellow '\n",
      " 'pigmentation due to various plant pigments, flowers come in a wide range of '\n",
      " 'colors including red, blue, pink, white, and purple. The color of a flower '\n",
      " 'is determined by the pigments present in the petals, and yellow is just one '\n",
      " 'of many possible colors.')\n",
      "\u001b[36;1m\u001b[1;3m[1:checkpoint]\u001b[0m \u001b[1mState at the end of step 1:\n",
      "\u001b[0m{'result': 'Not all flowers are yellow. While many flowers do exhibit yellow '\n",
      "           'pigmentation due to various plant pigments, flowers come in a wide '\n",
      "           'range of colors including red, blue, pink, white, and purple. The '\n",
      "           'color of a flower is determined by the pigments present in the '\n",
      "           'petals, and yellow is just one of many possible colors.',\n",
      " 'topic': 'Are all Flowers yellow?'}\n"
     ]
    }
   ],
   "source": [
    "# Graph aufrufen\n",
    "result_state = graph.invoke({\"topic\": \"Are all Flowers yellow?\",}, debug=True)\n"
   ]
  },
  {
   "cell_type": "markdown",
   "metadata": {},
   "source": [
    "### 7. Ausgabe des Ergebnisses"
   ]
  },
  {
   "cell_type": "code",
   "execution_count": 9,
   "metadata": {},
   "outputs": [
    {
     "name": "stdout",
     "output_type": "stream",
     "text": [
      "Die Internetrecherche hat folgendes ergeben: Not all flowers are yellow. While many flowers do exhibit yellow pigmentation due to various plant pigments, flowers come in a wide range of colors including red, blue, pink, white, and purple. The color of a flower is determined by the pigments present in the petals, and yellow is just one of many possible colors.\n"
     ]
    }
   ],
   "source": [
    "print(f\"Die Internetrecherche hat folgendes ergeben: {result_state[\"result\"]}\")"
   ]
  },
  {
   "cell_type": "markdown",
   "metadata": {},
   "source": [
    "## Zusammenfassung\n",
    "In diesem Notebook hast du gesehen, wie man: \n",
    "1. **LangGraph** verwendet, um einen einfachen Workflow mit Start und Ende zu erstellen.\n",
    "2. Eine Node anlegt, die mithilfe der **Tavily-API** eine Suche durchführt.\n",
    "3. Die Ergebnisse in einem typisierten State ablegt und nachher ausliest.\n",
    "\n",
    "Weitere Ideen:\n",
    "- Übersetze das Ergebnis auf deutsch, indem du noch ein \"Übersetzer-Agenten\" definierst. \n",
    "- Ergänze einen **Summarizer-Agent**, der die Suchergebnisse zusammenfasst.\n",
    "- Kombiniere den Graph mit anderen LLMs (z. B. via StackIT), um eine Chat-Interaktion zu ermöglichen.\n",
    "- Baue einen \"Multi-Step\"-Graphen, in dem die Suchergebnisse an einen Fact-Check-Agenten gehen oder automatisch im nächsten Schritt verarbeitet werden.\n",
    "\n",
    "Viel Spaß beim Ausprobieren!"
   ]
  }
 ],
 "metadata": {
  "kernelspec": {
   "display_name": "Python 3",
   "language": "python",
   "name": "python3"
  },
  "language_info": {
   "codemirror_mode": {
    "name": "ipython",
    "version": 3
   },
   "file_extension": ".py",
   "mimetype": "text/x-python",
   "name": "python",
   "nbconvert_exporter": "python",
   "pygments_lexer": "ipython3",
   "version": "3.12.7"
  }
 },
 "nbformat": 4,
 "nbformat_minor": 2
}
