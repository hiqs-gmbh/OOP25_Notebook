{
 "cells": [
  {
   "cell_type": "markdown",
   "metadata": {},
   "source": [
    "## Einführung in LangGraph mit einem einfachen StateGraph-Beispiel\n",
    "\n",
    "In diesem Workshop verwenden wir **LangGraph** und zeigen, wie man einen `StateGraph` aufsetzt, einen einzelnen \"Agenten\" erstellt und damit einfache Berechnungen (in unserem Fall eine Multiplikation) durchführt."
   ]
  },
  {
   "cell_type": "markdown",
   "metadata": {},
   "source": [
    "### 1. Imports\n",
    "In dieser Zelle importieren wir die notwendigen Klassen und Funktionen.\n",
    "- `START` und `END` sind spezielle Marker, die den Anfang und das Ende eines Graphen repräsentieren.\n",
    "- `StateGraph` ist die zentrale Klasse von LangGraph, die unseren Workflow konfiguriert.\n",
    "- `TypedDict` hilft uns dabei, den \"State\" (Zustand) typisiert anzulegen, was den Code besser verständlich macht und potenzielle Fehler frühzeitig erkennen lässt.\n",
    " - `IPython.display` wird genutzt, um innerhalb von Jupyter Notebooks Grafiken anzuzeigen (z.B. unser Graph-Diagramm)."
   ]
  },
  {
   "cell_type": "code",
   "execution_count": 2,
   "metadata": {},
   "outputs": [],
   "source": [
    "from langgraph.graph import START, StateGraph, END\n",
    "from typing_extensions import TypedDict\n",
    "from IPython.display import Image, display"
   ]
  },
  {
   "cell_type": "markdown",
   "metadata": {},
   "source": [
    "### 2. State definieren\n",
    "Anschließend definieren wir unseren State `MyState` als `TypedDict`. Er enthält:\n",
    "\n",
    "- `number_a` und `number_b`: Die Eingabezahlen.\n",
    "- `result`: Das Ergebnis der Multiplikation.\n",
    "\n",
    "Der State dient als Eingabeschema für alle *Nodes* und *Edges* im Graphen."
   ]
  },
  {
   "cell_type": "code",
   "execution_count": 3,
   "metadata": {},
   "outputs": [],
   "source": [
    "# State definieren\n",
    "class MyState(TypedDict):\n",
    "    number_a: int\n",
    "    number_b: int\n",
    "    result: int"
   ]
  },
  {
   "cell_type": "markdown",
   "metadata": {},
   "source": [
    "### 3. Node definieren\n",
    "\n",
    "[Nodes](https://langchain-ai.github.io/langgraph/concepts/low_level/#nodes) sind einfach Python-Funktionen.\n",
    "\n",
    "Das erste Positionsargument ist der **state**, wie oben definiert.\n",
    "\n",
    "Da der **state** ein `TypedDict` mit dem oben definierten Schema ist, kann jede Node auf die Schlüssel `number_a` und `number_b` mit `state['number_a']` und `state['number_b']` zugreifen.\n",
    "\n",
    "Jeder Node gibt einen neuen Wert des State-Schlüssels `graph_state` zurück.\n",
    "\n",
    "Standardmäßig überschreibt der neue von jedem Node zurückgegebene Wert den vorherigen Wert des States."
   ]
  },
  {
   "cell_type": "code",
   "execution_count": 4,
   "metadata": {},
   "outputs": [],
   "source": [
    "# Erste Node erstellen\n",
    "def multiply_two_numbers(state: MyState): \n",
    "    result = state[\"number_a\"] * state[\"number_b\"]\n",
    "\n",
    "    return {\"result\": result}"
   ]
  },
  {
   "cell_type": "markdown",
   "metadata": {},
   "source": [
    "#### Erklärung\n",
    "Wir erstellen eine Funktion `multiply_two_numbers`, die in unserem Graph als *Node* eingebunden wird.\n",
    "\n",
    "- Sie nimmt den State entgegen (als Dictionary).\n",
    "- Führt die Multiplikation durch.\n",
    "- Gibt ein Dictionary mit dem Schlüssel `\"result\"` zurück, das automatisch in den State übernommen wird."
   ]
  },
  {
   "cell_type": "markdown",
   "metadata": {},
   "source": [
    "### 4. Graph definieren \n",
    "\n",
    "Jetzt erstellen wir den Graph aus unseren [Components](https://langchain-ai.github.io/langgraph/concepts/low_level/), die wir oben definiert haben.\n",
    "\n",
    "Die [StateGraph-Klasse](https://langchain-ai.github.io/langgraph/concepts/low_level/#stategraph) ist die Graph-Klasse, die wir verwenden können.\n",
    "\n",
    "Zuerst initialisieren wir einen **StateGraph** mit der **MyState**-Klasse, die wir oben definiert haben.\n",
    "\n",
    "Dann fügen wir unsere Nodes und Edges hinzu.\n",
    "\n",
    "Edges verbinden Nodes miteinander.\n",
    "\n",
    "Wir verwenden den [`START` Node, einen speziellen Node](https://langchain-ai.github.io/langgraph/concepts/low_level/#start-node), der Benutzereingaben an den Graph sendet, um anzugeben, wo unser Graph beginnt.\n",
    "\n",
    "Der [`END` Node](https://langchain-ai.github.io/langgraph/concepts/low_level/#end-node) ist ein spezieller Node, der einen terminalen Node darstellt.\n",
    "\n",
    "Abschließend [kompilieren wir unseren Graph](https://langchain-ai.github.io/langgraph/concepts/low_level/#compiling-your-graph), um ein paar grundlegende Überprüfungen der Graph-Struktur durchzuführen."
   ]
  },
  {
   "cell_type": "code",
   "execution_count": 5,
   "metadata": {},
   "outputs": [],
   "source": [
    "# StateGraph initialisieren\n",
    "graph = StateGraph(MyState)\n",
    "\n",
    "# Agent (Node) hinzufügen\n",
    "graph.add_node(\"Multiply\", multiply_two_numbers)\n",
    "\n",
    "# Ablauf im Graph definieren durch Edges\n",
    "graph.add_edge(START, \"Multiply\")\n",
    "graph.add_edge(\"Multiply\", END)\n",
    "\n",
    "# Graph erstellen\n",
    "graph = graph.compile()"
   ]
  },
  {
   "cell_type": "markdown",
   "metadata": {},
   "source": [
    "#### Erklärung\n",
    "- Wir erzeugen eine Instanz `StateGraph(MyState)`, die unseren typisierten State übernimmt.\n",
    "- Dann fügen wir eine Node hinzu (mit `add_node`), welche auf unsere Funktion `multiply_two_numbers` verweist.\n",
    "- Mit `add_edge` legen wir die Ablaufreihenfolge fest: Zuerst `START`, dann `\"Multiply\"`, dann `END`.\n",
    "- Zum Schluss verwenden wir `compile()`, damit LangGraph unseren Graphen finalisiert und für die Ausführung vorbereitet.\n"
   ]
  },
  {
   "cell_type": "markdown",
   "metadata": {},
   "source": [
    "### 6. Graph visualisieren\n",
    "Wir lassen uns den Graph in Form einer Mermaid-Grafik anzeigen. Das hilft uns zu verstehen, wie der Ablauf (`START -> Multiply -> END`) aussieht. \n",
    "\n",
    "Diese Grafik kann nur in Jupyter Notebooks (oder ähnlichen Umgebungen) gerendert werden, in reinen Python-Skripten wäre das anders zu handhaben.\n"
   ]
  },
  {
   "cell_type": "code",
   "execution_count": 6,
   "metadata": {},
   "outputs": [
    {
     "data": {
      "image/png": "[encoded data removed]",
      "text/plain": [
       "<IPython.core.display.Image object>"
      ]
     },
     "metadata": {},
     "output_type": "display_data"
    }
   ],
   "source": [
    "# Graph anzeigen lassen\n",
    "display(Image(graph.get_graph(xray=True).draw_mermaid_png()))"
   ]
  },
  {
   "cell_type": "markdown",
   "metadata": {},
   "source": [
    "### 5. Graph aufrufen\n",
    "\n",
    "Nun müssen wir nur noch den Graphen aufrufen, den wir eben definiert haben. Dafür rufen wir die Methode `invoke` mit den Eingabe Parametern als Dictionary auf. \n",
    "\n",
    "Wenn wir `debug=True` setzen, dann sehen wir die Zwischenschritte des Graphen."
   ]
  },
  {
   "cell_type": "code",
   "execution_count": 9,
   "metadata": {},
   "outputs": [
    {
     "name": "stdout",
     "output_type": "stream",
     "text": [
      "\u001b[36;1m\u001b[1;3m[-1:checkpoint]\u001b[0m \u001b[1mState at the end of step -1:\n",
      "\u001b[0m{}\n",
      "\u001b[36;1m\u001b[1;3m[0:tasks]\u001b[0m \u001b[1mStarting 1 task for step 0:\n",
      "\u001b[0m- \u001b[32;1m\u001b[1;3m__start__\u001b[0m -> {'number_a': 3, 'number_b': 55}\n",
      "\u001b[36;1m\u001b[1;3m[0:writes]\u001b[0m \u001b[1mFinished step 0 with writes to 2 channels:\n",
      "\u001b[0m- \u001b[33;1m\u001b[1;3mnumber_a\u001b[0m -> 3\n",
      "- \u001b[33;1m\u001b[1;3mnumber_b\u001b[0m -> 55\n",
      "\u001b[36;1m\u001b[1;3m[0:checkpoint]\u001b[0m \u001b[1mState at the end of step 0:\n",
      "\u001b[0m{'number_a': 3, 'number_b': 55}\n",
      "\u001b[36;1m\u001b[1;3m[1:tasks]\u001b[0m \u001b[1mStarting 1 task for step 1:\n",
      "\u001b[0m- \u001b[32;1m\u001b[1;3mMultiply\u001b[0m -> {'number_a': 3, 'number_b': 55}\n",
      "\u001b[36;1m\u001b[1;3m[1:writes]\u001b[0m \u001b[1mFinished step 1 with writes to 1 channel:\n",
      "\u001b[0m- \u001b[33;1m\u001b[1;3mresult\u001b[0m -> 165\n",
      "\u001b[36;1m\u001b[1;3m[1:checkpoint]\u001b[0m \u001b[1mState at the end of step 1:\n",
      "\u001b[0m{'number_a': 3, 'number_b': 55, 'result': 165}\n"
     ]
    }
   ],
   "source": [
    "# Graph aufrufen\n",
    "result_state = graph.invoke({\n",
    "                        \"number_a\": 3,\n",
    "                        \"number_b\": 55},\n",
    "                        debug=True)"
   ]
  },
  {
   "cell_type": "markdown",
   "metadata": {},
   "source": [
    "#### Erklärung\n",
    "\n",
    "- Die Daten fließen durch den Graph von `START` zur Node `\"Multiply\"`.\n",
    "- Dort wird `number_a * number_b` berechnet und das Ergebnis in den State geschrieben.\n",
    "- Anschließend geht es zum `END`.\n",
    "- Wir nutzen `debug=True`, um zusätzliche Debug-Informationen auszugeben."
   ]
  },
  {
   "cell_type": "markdown",
   "metadata": {},
   "source": [
    "### 6. Ergebnis ausgeben"
   ]
  },
  {
   "cell_type": "code",
   "execution_count": 8,
   "metadata": {},
   "outputs": [
    {
     "name": "stdout",
     "output_type": "stream",
     "text": [
      "Das Ergebnis lautet: 165\n"
     ]
    }
   ],
   "source": [
    "# Ergebnis ausgeben\n",
    "print(f\"Das Ergebnis lautet: {result_state[\"result\"]}\")"
   ]
  },
  {
   "cell_type": "markdown",
   "metadata": {},
   "source": [
    "## Zusammenfassung\n",
    "\n",
    "Wir haben gelernt: \n",
    "1. Wie man mit **LangGraph** ein `StateGraph` aufbaut.\n",
    "2. Eine **Node** (Funktion) erstellt, die auf den State zugreift und Daten verändert.\n",
    "3. Wie man **Edges** (`add_edge`) setzt, um den Ablauf zu definieren.\n",
    "4. Wie man den Graphen **ausführt** und schließlich **Ergebnisse** aus dem State ausliest.\n",
    "\n",
    "Du kannst diesen Ansatz erweitern, um komplexere Workflows zu bauen, z. B. indem du mehrere Nodes für unterschiedliche Berechnungen oder Logik-Schritte einbaust. \n",
    "\n",
    "Viel Spaß beim Experimentieren!\n",
    "\n",
    "### Weitere Resourcen \n",
    "- https://academy.langchain.com/\n",
    "- https://github.com/langchain-ai/langchain-academy\n"
   ]
  }
 ],
 "metadata": {
  "kernelspec": {
   "display_name": "Python 3",
   "language": "python",
   "name": "python3"
  },
  "language_info": {
   "codemirror_mode": {
    "name": "ipython",
    "version": 3
   },
   "file_extension": ".py",
   "mimetype": "text/x-python",
   "name": "python",
   "nbconvert_exporter": "python",
   "pygments_lexer": "ipython3",
   "version": "3.12.7"
  }
 },
 "nbformat": 4,
 "nbformat_minor": 2
}
